{
 "cells": [
  {
   "cell_type": "code",
   "execution_count": 1,
   "metadata": {},
   "outputs": [],
   "source": [
    "import pandas as pd\n",
    "import seaborn as sns"
   ]
  },
  {
   "cell_type": "code",
   "execution_count": 2,
   "metadata": {},
   "outputs": [
    {
     "name": "stdout",
     "output_type": "stream",
     "text": [
      "<class 'pandas.core.frame.DataFrame'>\n",
      "RangeIndex: 1586615 entries, 0 to 1586614\n",
      "Data columns (total 15 columns):\n",
      " #   Column                   Non-Null Count    Dtype  \n",
      "---  ------                   --------------    -----  \n",
      " 0   Unnamed: 0               1586615 non-null  int64  \n",
      " 1   review_appearance_score  1586614 non-null  float64\n",
      " 2   beer_style               1586614 non-null  object \n",
      " 3   review_palate_score      1586614 non-null  float64\n",
      " 4   review_taste_score       1586614 non-null  float64\n",
      " 5   beer_name                1586614 non-null  object \n",
      " 6   review_time              1586614 non-null  float64\n",
      " 7   user_gender              637221 non-null   object \n",
      " 8   user_birthday            327596 non-null   float64\n",
      " 9   beer_ABV                 1518829 non-null  float64\n",
      " 10  beer_id                  1586614 non-null  object \n",
      " 11  review_overall_score     1586614 non-null  float64\n",
      " 12  review_text              1586614 non-null  object \n",
      " 13  review_user              1586614 non-null  object \n",
      " 14  review_aroma_score       1586614 non-null  float64\n",
      "dtypes: float64(8), int64(1), object(6)\n",
      "memory usage: 181.6+ MB\n"
     ]
    }
   ],
   "source": [
    "ba_df = pd.read_csv('data/beer_advocate.csv')\n",
    "ba_df.info()"
   ]
  },
  {
   "cell_type": "code",
   "execution_count": 8,
   "metadata": {},
   "outputs": [
    {
     "data": {
      "text/plain": [
       "66056"
      ]
     },
     "execution_count": 8,
     "metadata": {},
     "output_type": "execute_result"
    }
   ],
   "source": [
    "len(ba_df['beer_id'].unique())"
   ]
  },
  {
   "cell_type": "code",
   "execution_count": 12,
   "metadata": {},
   "outputs": [
    {
     "data": {
      "text/html": [
       "<div>\n",
       "<style scoped>\n",
       "    .dataframe tbody tr th:only-of-type {\n",
       "        vertical-align: middle;\n",
       "    }\n",
       "\n",
       "    .dataframe tbody tr th {\n",
       "        vertical-align: top;\n",
       "    }\n",
       "\n",
       "    .dataframe thead th {\n",
       "        text-align: right;\n",
       "    }\n",
       "</style>\n",
       "<table border=\"1\" class=\"dataframe\">\n",
       "  <thead>\n",
       "    <tr style=\"text-align: right;\">\n",
       "      <th></th>\n",
       "      <th>Unnamed: 0</th>\n",
       "      <th>review_appearance_score</th>\n",
       "      <th>review_palate_score</th>\n",
       "      <th>review_taste_score</th>\n",
       "      <th>review_time</th>\n",
       "      <th>user_birthday</th>\n",
       "      <th>beer_ABV</th>\n",
       "      <th>review_overall_score</th>\n",
       "      <th>review_aroma_score</th>\n",
       "    </tr>\n",
       "    <tr>\n",
       "      <th>beer_id</th>\n",
       "      <th></th>\n",
       "      <th></th>\n",
       "      <th></th>\n",
       "      <th></th>\n",
       "      <th></th>\n",
       "      <th></th>\n",
       "      <th></th>\n",
       "      <th></th>\n",
       "      <th></th>\n",
       "    </tr>\n",
       "  </thead>\n",
       "  <tbody>\n",
       "    <tr>\n",
       "      <th>'55446'</th>\n",
       "      <td>1342449.0</td>\n",
       "      <td>5.0</td>\n",
       "      <td>4.5</td>\n",
       "      <td>5.0</td>\n",
       "      <td>1.263688e+09</td>\n",
       "      <td>399279600.0</td>\n",
       "      <td>9.0</td>\n",
       "      <td>5.0</td>\n",
       "      <td>4.0</td>\n",
       "    </tr>\n",
       "    <tr>\n",
       "      <th>'65556'</th>\n",
       "      <td>11740.0</td>\n",
       "      <td>5.0</td>\n",
       "      <td>4.5</td>\n",
       "      <td>4.5</td>\n",
       "      <td>1.295825e+09</td>\n",
       "      <td>NaN</td>\n",
       "      <td>4.0</td>\n",
       "      <td>5.0</td>\n",
       "      <td>5.0</td>\n",
       "    </tr>\n",
       "    <tr>\n",
       "      <th>'9137'</th>\n",
       "      <td>1535141.0</td>\n",
       "      <td>4.5</td>\n",
       "      <td>4.0</td>\n",
       "      <td>5.0</td>\n",
       "      <td>1.215965e+09</td>\n",
       "      <td>NaN</td>\n",
       "      <td>7.0</td>\n",
       "      <td>5.0</td>\n",
       "      <td>5.0</td>\n",
       "    </tr>\n",
       "    <tr>\n",
       "      <th>'4967'</th>\n",
       "      <td>1494565.0</td>\n",
       "      <td>4.0</td>\n",
       "      <td>4.0</td>\n",
       "      <td>4.5</td>\n",
       "      <td>1.034207e+09</td>\n",
       "      <td>NaN</td>\n",
       "      <td>4.5</td>\n",
       "      <td>5.0</td>\n",
       "      <td>4.0</td>\n",
       "    </tr>\n",
       "    <tr>\n",
       "      <th>'70300'</th>\n",
       "      <td>1045590.0</td>\n",
       "      <td>4.0</td>\n",
       "      <td>3.5</td>\n",
       "      <td>4.5</td>\n",
       "      <td>1.308774e+09</td>\n",
       "      <td>NaN</td>\n",
       "      <td>NaN</td>\n",
       "      <td>5.0</td>\n",
       "      <td>4.0</td>\n",
       "    </tr>\n",
       "  </tbody>\n",
       "</table>\n",
       "</div>"
      ],
      "text/plain": [
       "         Unnamed: 0  review_appearance_score  review_palate_score  \\\n",
       "beer_id                                                             \n",
       "'55446'   1342449.0                      5.0                  4.5   \n",
       "'65556'     11740.0                      5.0                  4.5   \n",
       "'9137'    1535141.0                      4.5                  4.0   \n",
       "'4967'    1494565.0                      4.0                  4.0   \n",
       "'70300'   1045590.0                      4.0                  3.5   \n",
       "\n",
       "         review_taste_score   review_time  user_birthday  beer_ABV  \\\n",
       "beer_id                                                              \n",
       "'55446'                 5.0  1.263688e+09    399279600.0       9.0   \n",
       "'65556'                 4.5  1.295825e+09            NaN       4.0   \n",
       "'9137'                  5.0  1.215965e+09            NaN       7.0   \n",
       "'4967'                  4.5  1.034207e+09            NaN       4.5   \n",
       "'70300'                 4.5  1.308774e+09            NaN       NaN   \n",
       "\n",
       "         review_overall_score  review_aroma_score  \n",
       "beer_id                                            \n",
       "'55446'                   5.0                 4.0  \n",
       "'65556'                   5.0                 5.0  \n",
       "'9137'                    5.0                 5.0  \n",
       "'4967'                    5.0                 4.0  \n",
       "'70300'                   5.0                 4.0  "
      ]
     },
     "execution_count": 12,
     "metadata": {},
     "output_type": "execute_result"
    }
   ],
   "source": [
    "ba_df.groupby('beer_id').mean().sort_values('review_overall_score', ascending=False).head()"
   ]
  },
  {
   "cell_type": "code",
   "execution_count": null,
   "metadata": {},
   "outputs": [],
   "source": []
  }
 ],
 "metadata": {
  "kernelspec": {
   "display_name": "jupy_venv",
   "language": "python",
   "name": "jupy_venv"
  },
  "language_info": {
   "codemirror_mode": {
    "name": "ipython",
    "version": 3
   },
   "file_extension": ".py",
   "mimetype": "text/x-python",
   "name": "python",
   "nbconvert_exporter": "python",
   "pygments_lexer": "ipython3",
   "version": "3.7.9"
  }
 },
 "nbformat": 4,
 "nbformat_minor": 4
}
